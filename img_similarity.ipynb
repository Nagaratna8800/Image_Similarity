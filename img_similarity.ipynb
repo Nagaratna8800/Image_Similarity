{
  "nbformat": 4,
  "nbformat_minor": 0,
  "metadata": {
    "colab": {
      "name": "img_similarity.ipynb",
      "provenance": []
    },
    "kernelspec": {
      "name": "python3",
      "display_name": "Python 3"
    },
    "language_info": {
      "name": "python"
    }
  },
  "cells": [
    {
      "cell_type": "code",
      "metadata": {
        "id": "wqA52Yvtm4qu"
      },
      "source": [
        ""
      ],
      "execution_count": 23,
      "outputs": []
    },
    {
      "cell_type": "code",
      "metadata": {
        "colab": {
          "base_uri": "https://localhost:8080/"
        },
        "id": "MMMrrqpLnj_o",
        "outputId": "5df59132-04d7-473b-e853-1b1171b4f6ee"
      },
      "source": [
        "pip install image-similarity-measures\n"
      ],
      "execution_count": 24,
      "outputs": [
        {
          "output_type": "stream",
          "name": "stdout",
          "text": [
            "Requirement already satisfied: image-similarity-measures in /usr/local/lib/python3.7/dist-packages (0.3.5)\n",
            "Requirement already satisfied: numpy in /usr/local/lib/python3.7/dist-packages (from image-similarity-measures) (1.19.5)\n",
            "Requirement already satisfied: pyfftw in /usr/local/lib/python3.7/dist-packages (from image-similarity-measures) (0.12.0)\n",
            "Requirement already satisfied: scikit-image in /usr/local/lib/python3.7/dist-packages (from image-similarity-measures) (0.18.3)\n",
            "Requirement already satisfied: phasepack in /usr/local/lib/python3.7/dist-packages (from image-similarity-measures) (1.5)\n",
            "Requirement already satisfied: opencv-python in /usr/local/lib/python3.7/dist-packages (from image-similarity-measures) (4.1.2.30)\n",
            "Requirement already satisfied: rasterio in /usr/local/lib/python3.7/dist-packages (from image-similarity-measures) (1.2.10)\n",
            "Requirement already satisfied: setuptools in /usr/local/lib/python3.7/dist-packages (from rasterio->image-similarity-measures) (57.4.0)\n",
            "Requirement already satisfied: cligj>=0.5 in /usr/local/lib/python3.7/dist-packages (from rasterio->image-similarity-measures) (0.7.2)\n",
            "Requirement already satisfied: click-plugins in /usr/local/lib/python3.7/dist-packages (from rasterio->image-similarity-measures) (1.1.1)\n",
            "Requirement already satisfied: snuggs>=1.4.1 in /usr/local/lib/python3.7/dist-packages (from rasterio->image-similarity-measures) (1.4.7)\n",
            "Requirement already satisfied: click>=4.0 in /usr/local/lib/python3.7/dist-packages (from rasterio->image-similarity-measures) (7.1.2)\n",
            "Requirement already satisfied: attrs in /usr/local/lib/python3.7/dist-packages (from rasterio->image-similarity-measures) (21.2.0)\n",
            "Requirement already satisfied: affine in /usr/local/lib/python3.7/dist-packages (from rasterio->image-similarity-measures) (2.3.0)\n",
            "Requirement already satisfied: certifi in /usr/local/lib/python3.7/dist-packages (from rasterio->image-similarity-measures) (2021.10.8)\n",
            "Requirement already satisfied: pyparsing>=2.1.6 in /usr/local/lib/python3.7/dist-packages (from snuggs>=1.4.1->rasterio->image-similarity-measures) (3.0.6)\n",
            "Requirement already satisfied: networkx>=2.0 in /usr/local/lib/python3.7/dist-packages (from scikit-image->image-similarity-measures) (2.6.3)\n",
            "Requirement already satisfied: tifffile>=2019.7.26 in /usr/local/lib/python3.7/dist-packages (from scikit-image->image-similarity-measures) (2021.11.2)\n",
            "Requirement already satisfied: scipy>=1.0.1 in /usr/local/lib/python3.7/dist-packages (from scikit-image->image-similarity-measures) (1.4.1)\n",
            "Requirement already satisfied: PyWavelets>=1.1.1 in /usr/local/lib/python3.7/dist-packages (from scikit-image->image-similarity-measures) (1.2.0)\n",
            "Requirement already satisfied: pillow!=7.1.0,!=7.1.1,>=4.3.0 in /usr/local/lib/python3.7/dist-packages (from scikit-image->image-similarity-measures) (7.1.2)\n",
            "Requirement already satisfied: matplotlib!=3.0.0,>=2.0.0 in /usr/local/lib/python3.7/dist-packages (from scikit-image->image-similarity-measures) (3.2.2)\n",
            "Requirement already satisfied: imageio>=2.3.0 in /usr/local/lib/python3.7/dist-packages (from scikit-image->image-similarity-measures) (2.4.1)\n",
            "Requirement already satisfied: python-dateutil>=2.1 in /usr/local/lib/python3.7/dist-packages (from matplotlib!=3.0.0,>=2.0.0->scikit-image->image-similarity-measures) (2.8.2)\n",
            "Requirement already satisfied: kiwisolver>=1.0.1 in /usr/local/lib/python3.7/dist-packages (from matplotlib!=3.0.0,>=2.0.0->scikit-image->image-similarity-measures) (1.3.2)\n",
            "Requirement already satisfied: cycler>=0.10 in /usr/local/lib/python3.7/dist-packages (from matplotlib!=3.0.0,>=2.0.0->scikit-image->image-similarity-measures) (0.11.0)\n",
            "Requirement already satisfied: six>=1.5 in /usr/local/lib/python3.7/dist-packages (from python-dateutil>=2.1->matplotlib!=3.0.0,>=2.0.0->scikit-image->image-similarity-measures) (1.15.0)\n"
          ]
        }
      ]
    },
    {
      "cell_type": "code",
      "metadata": {
        "id": "1gXIGrlZs0-m"
      },
      "source": [
        "import cv2\n",
        "import os\n",
        "import image_similarity_measures\n",
        "from sys import argv\n",
        "from image_similarity_measures.quality_metrics import rmse, ssim, sre"
      ],
      "execution_count": 25,
      "outputs": []
    },
    {
      "cell_type": "code",
      "metadata": {
        "id": "GiOCfE4-oQ-p"
      },
      "source": [
        "#img.copy_file_from_gdrive(fruits1)\n",
        "\n",
        "test_img = cv2.imread('/content/drive/MyDrive/Colab Notebooks/input/fruit_0066.jpg')"
      ],
      "execution_count": 26,
      "outputs": []
    },
    {
      "cell_type": "code",
      "metadata": {
        "id": "Mufre66ZoRK7"
      },
      "source": [
        "ssim_measures = {}\n",
        "rmse_measures = {}\n",
        "sre_measures = {}"
      ],
      "execution_count": 27,
      "outputs": []
    },
    {
      "cell_type": "code",
      "metadata": {
        "id": "VPRWx9f9uHcI"
      },
      "source": [
        "#from google.colab import drive\n",
        "#drive.mount('/content/drive')"
      ],
      "execution_count": 28,
      "outputs": []
    },
    {
      "cell_type": "code",
      "metadata": {
        "id": "gC72XG4roRNv"
      },
      "source": [
        "scale_percent = 100\n",
        "width = int(test_img.shape[1] * scale_percent / 100)\n",
        "height = int(test_img.shape[0] * scale_percent / 100)\n",
        "dim = (width, height)\n",
        "\n",
        "data_dir = '/content/drive/MyDrive/Colab Notebooks/fruit1'"
      ],
      "execution_count": 29,
      "outputs": []
    },
    {
      "cell_type": "code",
      "metadata": {
        "id": "k_IQJAznoRQV"
      },
      "source": [
        "for file in os.listdir(data_dir):\n",
        "\timg_path = os.path.join(data_dir, file)\n",
        "\tdata_img = cv2.imread(img_path)\n",
        "\tresized_img = cv2.resize(data_img, dim, interpolation = cv2.INTER_AREA)\n",
        "\tssim_measures[img_path]= ssim(test_img, resized_img)\n",
        "\trmse_measures[img_path]= rmse(test_img, resized_img)\n",
        "\tsre_measures[img_path]= sre(test_img, resized_img)"
      ],
      "execution_count": 30,
      "outputs": []
    },
    {
      "cell_type": "code",
      "metadata": {
        "id": "JAUCXPJooRTf"
      },
      "source": [
        "def calc_closest_val(dict, checkMax):\n",
        "    result = {}\n",
        "    if (checkMax):\n",
        "    \tclosest = max(dict.values())\n",
        "    else:\n",
        "    \tclosest = min(dict.values())\n",
        "    \t\t\n",
        "    for key, value in dict.items():\n",
        "    \tprint(\"The difference between \", key ,\" and the original image is : \\n\", value)\n",
        "    \tif (value == closest):\n",
        "    \t    result[key] = closest\n",
        "    \t    \n",
        "    print(\"The closest value: \", closest)\t    \n",
        "    print(\"######################################################################\")\n",
        "    return result"
      ],
      "execution_count": 31,
      "outputs": []
    },
    {
      "cell_type": "code",
      "metadata": {
        "id": "ydkqTIP6oRW9",
        "colab": {
          "base_uri": "https://localhost:8080/"
        },
        "outputId": "bcf993b2-2bcc-43d5-d9ff-37bf32a9c277"
      },
      "source": [
        "ssim = calc_closest_val(ssim_measures, True)\n",
        "rmse = calc_closest_val(rmse_measures, False)\n",
        "sre = calc_closest_val(sre_measures, True)\n",
        "\n",
        "print(\"The most similar according to SSIM: \" , ssim)\n",
        "print(\"The most similar according to RMSE: \" , rmse)\n",
        "print(\"The most similar according to SRE: \" , sre)"
      ],
      "execution_count": 32,
      "outputs": [
        {
          "output_type": "stream",
          "name": "stdout",
          "text": [
            "The difference between  /content/drive/MyDrive/Colab Notebooks/fruit1/fruit_0014.jpg  and the original image is : \n",
            " 0.8177946649979102\n",
            "The difference between  /content/drive/MyDrive/Colab Notebooks/fruit1/fruit_0009.jpg  and the original image is : \n",
            " 0.7587721247153737\n",
            "The difference between  /content/drive/MyDrive/Colab Notebooks/fruit1/fruit_0003.jpg  and the original image is : \n",
            " 0.8174294030057251\n",
            "The difference between  /content/drive/MyDrive/Colab Notebooks/fruit1/fruit_0002.jpg  and the original image is : \n",
            " 0.8805244526619601\n",
            "The difference between  /content/drive/MyDrive/Colab Notebooks/fruit1/fruit_0007.jpg  and the original image is : \n",
            " 0.9706485337678806\n",
            "The difference between  /content/drive/MyDrive/Colab Notebooks/fruit1/fruit_0001.jpg  and the original image is : \n",
            " 0.5772332817389213\n",
            "The difference between  /content/drive/MyDrive/Colab Notebooks/fruit1/fruit_0011.jpg  and the original image is : \n",
            " 0.7896351734375658\n",
            "The difference between  /content/drive/MyDrive/Colab Notebooks/fruit1/fruit_0004.jpg  and the original image is : \n",
            " 0.7721364131348764\n",
            "The difference between  /content/drive/MyDrive/Colab Notebooks/fruit1/fruit_0008.jpg  and the original image is : \n",
            " 0.8519273576168326\n",
            "The difference between  /content/drive/MyDrive/Colab Notebooks/fruit1/fruit_0005.jpg  and the original image is : \n",
            " 0.8822719665795925\n",
            "The difference between  /content/drive/MyDrive/Colab Notebooks/fruit1/fruit_0013.jpg  and the original image is : \n",
            " 0.8157621832192428\n",
            "The difference between  /content/drive/MyDrive/Colab Notebooks/fruit1/fruit_0006.jpg  and the original image is : \n",
            " 0.7885417108051683\n",
            "The difference between  /content/drive/MyDrive/Colab Notebooks/fruit1/fruit_0012.jpg  and the original image is : \n",
            " 0.8966894903783992\n",
            "The closest value:  0.9706485337678806\n",
            "######################################################################\n",
            "The difference between  /content/drive/MyDrive/Colab Notebooks/fruit1/fruit_0014.jpg  and the original image is : \n",
            " 0.016344676\n",
            "The difference between  /content/drive/MyDrive/Colab Notebooks/fruit1/fruit_0009.jpg  and the original image is : \n",
            " 0.022449821\n",
            "The difference between  /content/drive/MyDrive/Colab Notebooks/fruit1/fruit_0003.jpg  and the original image is : \n",
            " 0.017960643\n",
            "The difference between  /content/drive/MyDrive/Colab Notebooks/fruit1/fruit_0002.jpg  and the original image is : \n",
            " 0.015448528\n",
            "The difference between  /content/drive/MyDrive/Colab Notebooks/fruit1/fruit_0007.jpg  and the original image is : \n",
            " 0.008026229\n",
            "The difference between  /content/drive/MyDrive/Colab Notebooks/fruit1/fruit_0001.jpg  and the original image is : \n",
            " 0.024784556\n",
            "The difference between  /content/drive/MyDrive/Colab Notebooks/fruit1/fruit_0011.jpg  and the original image is : \n",
            " 0.020394221\n",
            "The difference between  /content/drive/MyDrive/Colab Notebooks/fruit1/fruit_0004.jpg  and the original image is : \n",
            " 0.01896579\n",
            "The difference between  /content/drive/MyDrive/Colab Notebooks/fruit1/fruit_0008.jpg  and the original image is : \n",
            " 0.015377745\n",
            "The difference between  /content/drive/MyDrive/Colab Notebooks/fruit1/fruit_0005.jpg  and the original image is : \n",
            " 0.0129161505\n",
            "The difference between  /content/drive/MyDrive/Colab Notebooks/fruit1/fruit_0013.jpg  and the original image is : \n",
            " 0.018947573\n",
            "The difference between  /content/drive/MyDrive/Colab Notebooks/fruit1/fruit_0006.jpg  and the original image is : \n",
            " 0.016286949\n",
            "The difference between  /content/drive/MyDrive/Colab Notebooks/fruit1/fruit_0012.jpg  and the original image is : \n",
            " 0.016390778\n",
            "The closest value:  0.008026229\n",
            "######################################################################\n",
            "The difference between  /content/drive/MyDrive/Colab Notebooks/fruit1/fruit_0014.jpg  and the original image is : \n",
            " 46.60852247178624\n",
            "The difference between  /content/drive/MyDrive/Colab Notebooks/fruit1/fruit_0009.jpg  and the original image is : \n",
            " 45.39752211239711\n",
            "The difference between  /content/drive/MyDrive/Colab Notebooks/fruit1/fruit_0003.jpg  and the original image is : \n",
            " 46.22482725065528\n",
            "The difference between  /content/drive/MyDrive/Colab Notebooks/fruit1/fruit_0002.jpg  and the original image is : \n",
            " 47.050190551230685\n",
            "The difference between  /content/drive/MyDrive/Colab Notebooks/fruit1/fruit_0007.jpg  and the original image is : \n",
            " 49.90384465116604\n",
            "The difference between  /content/drive/MyDrive/Colab Notebooks/fruit1/fruit_0001.jpg  and the original image is : \n",
            " 44.9187288231164\n",
            "The difference between  /content/drive/MyDrive/Colab Notebooks/fruit1/fruit_0011.jpg  and the original image is : \n",
            " 45.45095024990979\n",
            "The difference between  /content/drive/MyDrive/Colab Notebooks/fruit1/fruit_0004.jpg  and the original image is : \n",
            " 45.9099897685668\n",
            "The difference between  /content/drive/MyDrive/Colab Notebooks/fruit1/fruit_0008.jpg  and the original image is : \n",
            " 47.48798622945604\n",
            "The difference between  /content/drive/MyDrive/Colab Notebooks/fruit1/fruit_0005.jpg  and the original image is : \n",
            " 48.34807806982476\n",
            "The difference between  /content/drive/MyDrive/Colab Notebooks/fruit1/fruit_0013.jpg  and the original image is : \n",
            " 46.09720438459231\n",
            "The difference between  /content/drive/MyDrive/Colab Notebooks/fruit1/fruit_0006.jpg  and the original image is : \n",
            " 47.19288039526661\n",
            "The difference between  /content/drive/MyDrive/Colab Notebooks/fruit1/fruit_0012.jpg  and the original image is : \n",
            " 46.920289644842114\n",
            "The closest value:  49.90384465116604\n",
            "######################################################################\n",
            "The most similar according to SSIM:  {'/content/drive/MyDrive/Colab Notebooks/fruit1/fruit_0007.jpg': 0.9706485337678806}\n",
            "The most similar according to RMSE:  {'/content/drive/MyDrive/Colab Notebooks/fruit1/fruit_0007.jpg': 0.008026229}\n",
            "The most similar according to SRE:  {'/content/drive/MyDrive/Colab Notebooks/fruit1/fruit_0007.jpg': 49.90384465116604}\n"
          ]
        }
      ]
    }
  ]
}